{
 "cells": [
  {
   "cell_type": "code",
   "execution_count": null,
   "id": "fea84946",
   "metadata": {},
   "outputs": [],
   "source": [
    "import zipfile\n",
    "\n",
    "# Prepara um zip com as credenciais e instruções para serem usadas no Power BI\n",
    "readme_content = \"\"\"\n",
    "Conexão PostgreSQL para o Power BI (.PBIX)\n",
    "\n",
    "Host: localhost\n",
    "Porta: 5432\n",
    "Banco de dados: dbinterview\n",
    "Usuário: postgres\n",
    "Senha: postgres\n",
    "\n",
    "IMPORTANTE: Ao abrir o arquivo .PBIX, atualize as credenciais na aba \"Transformar Dados\" > \"Fonte de Dados\".\n",
    "\"\"\"\n",
    "\n",
    "readme_path = \"/mnt/data/README_PowerBI_Conexao.txt\"\n",
    "with open(readme_path, \"w\") as f:\n",
    "    f.write(readme_content.strip())\n",
    "\n",
    "# Cria um novo zip contendo as SQLs e o README\n",
    "zip_path = \"/mnt/data/SQLs_e_Conexao_PostgreSQL_PowerBI.zip\"\n",
    "with zipfile.ZipFile(zip_path, \"w\") as zipf:\n",
    "    # Adiciona README\n",
    "    zipf.write(readme_path, \"README_PowerBI_Conexao.txt\")\n",
    "    # Adiciona as queries\n",
    "    for filename in os.listdir(output_dir):\n",
    "        full_path = os.path.join(output_dir, filename)\n",
    "        zipf.write(full_path, filename)\n",
    "\n",
    "zip_path\n"
   ]
  }
 ],
 "metadata": {
  "language_info": {
   "name": "python"
  }
 },
 "nbformat": 4,
 "nbformat_minor": 5
}
